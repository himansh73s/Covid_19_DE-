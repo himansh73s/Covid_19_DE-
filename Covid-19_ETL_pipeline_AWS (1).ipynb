{
 "cells": [
  {
   "cell_type": "code",
   "execution_count": 88,
   "id": "a3edaa40-9321-491e-9831-161fbac08a9e",
   "metadata": {},
   "outputs": [],
   "source": [
    "import boto3\n",
    "import pandas as pd\n",
    "from io import StringIO  #python3; python2: BytesIO\n",
    "import time\n",
    "from typing import Dict"
   ]
  },
  {
   "cell_type": "code",
   "execution_count": 28,
   "id": "7e72796d-84b1-4e27-8231-0f88273e3d87",
   "metadata": {},
   "outputs": [],
   "source": [
    "AWS_ACCESS_KEY = \" \"\n",
    "AWS_SECRET_KEY = \" \"\n",
    "AWS_REGION = \"ap-south-1\"\n",
    "SCHEMA_NAME = \"covid_19\"\n",
    "S3_STAGING_DIR = \"s3://himanshu-athena-output-covid/output/\"\n",
    "S3_BUCKET_NAME = \"himanshu-athena-output-covid\"\n",
    "S3_OUTPUT_DIRECTORY = \"output\""
   ]
  },
  {
   "cell_type": "code",
   "execution_count": 29,
   "id": "5745106e-0e26-4747-9fe2-79ff80dab00e",
   "metadata": {},
   "outputs": [],
   "source": [
    "athena_client = boto3.client(\"athena\",\n",
    "                            aws_access_key_id = AWS_ACCESS_KEY,\n",
    "                            aws_secret_access_key = AWS_SECRET_KEY,\n",
    "                            region_name = AWS_REGION,)"
   ]
  },
  {
   "cell_type": "code",
   "execution_count": 89,
   "id": "de4c00e3-19ca-4837-ace6-ef25d73a38bc",
   "metadata": {},
   "outputs": [],
   "source": [
    "#Gets the data from athena and converts it into pandas dataframe\n",
    "Dict = {}\n",
    "def download_and_load_query_results(\n",
    "    client: boto3.client, query_response: Dict\n",
    ") -> pd.DataFrame:\n",
    "    while True:\n",
    "        try:\n",
    "            client.get_query_results(QueryExecutionId=query_response[\"QueryExecutionId\"])\n",
    "            break\n",
    "        except Exception as err:\n",
    "             if \"not yet finished\" in str(err):\n",
    "                 time.sleep(0.001)\n",
    "             else:\n",
    "                  print(f\"An exception occurred: {err}\")\n",
    "                  raise err\n",
    "            # if \"not yet finished\" in str(err):\n",
    "            #     time.sleep(0.001)\n",
    "            # else:\n",
    "            #     raise err\n",
    "    temp_file_location = \"athena_query_results.csv\"\n",
    "    s3_client = boto3.client(\"s3\",\n",
    "                            aws_access_key_id = AWS_ACCESS_KEY,\n",
    "                            aws_secret_access_key = AWS_SECRET_KEY,\n",
    "                            region_name = AWS_REGION,)\n",
    "    s3_client.download_file(S3_BUCKET_NAME,\n",
    "                           f\"{S3_OUTPUT_DIRECTORY}/{query_response['QueryExecutionId']}.csv\",\n",
    "                           temp_file_location,)\n",
    "    return pd.read_csv(temp_file_location)\n"
   ]
  },
  {
   "cell_type": "code",
   "execution_count": 94,
   "id": "b196b7b0-0fc4-442a-8b86-69deed700926",
   "metadata": {},
   "outputs": [],
   "source": [
    "response = athena_client.start_query_execution(\n",
    "    QueryString=\"SELECT * FROM enigmaup_jhu_csv\",\n",
    "    QueryExecutionContext={\"Database\":SCHEMA_NAME},\n",
    "    ResultConfiguration={\n",
    "        \"OutputLocation\":S3_STAGING_DIR ,\n",
    "        \"EncryptionConfiguration\":{\"EncryptionOption\":\"SSE_S3\"},\n",
    "    },\n",
    ")\n"
   ]
  },
  {
   "cell_type": "code",
   "execution_count": 95,
   "id": "3fc7e536-7af3-4c2d-9caf-902f02303ed0",
   "metadata": {},
   "outputs": [
    {
     "data": {
      "text/plain": [
       "{'QueryExecutionId': 'b0cfd5af-90d8-4ff4-bb89-8958f77081c3',\n",
       " 'ResponseMetadata': {'RequestId': 'eae23b96-36f7-4ed8-b234-08a5f587d011',\n",
       "  'HTTPStatusCode': 200,\n",
       "  'HTTPHeaders': {'date': 'Fri, 02 Feb 2024 21:32:23 GMT',\n",
       "   'content-type': 'application/x-amz-json-1.1',\n",
       "   'content-length': '59',\n",
       "   'connection': 'keep-alive',\n",
       "   'x-amzn-requestid': 'eae23b96-36f7-4ed8-b234-08a5f587d011'},\n",
       "  'RetryAttempts': 0}}"
      ]
     },
     "execution_count": 95,
     "metadata": {},
     "output_type": "execute_result"
    }
   ],
   "source": [
    "response"
   ]
  },
  {
   "cell_type": "code",
   "execution_count": 96,
   "id": "2a4ec160-0c8f-44dd-92d9-6204f2b56578",
   "metadata": {},
   "outputs": [],
   "source": [
    "enigmaup_jhu_csv = download_and_load_query_results(athena_client, response)"
   ]
  },
  {
   "cell_type": "code",
   "execution_count": 97,
   "id": "86931ca7-54af-46c7-a29c-045b51a5bcda",
   "metadata": {},
   "outputs": [
    {
     "data": {
      "text/html": [
       "<div>\n",
       "<style scoped>\n",
       "    .dataframe tbody tr th:only-of-type {\n",
       "        vertical-align: middle;\n",
       "    }\n",
       "\n",
       "    .dataframe tbody tr th {\n",
       "        vertical-align: top;\n",
       "    }\n",
       "\n",
       "    .dataframe thead th {\n",
       "        text-align: right;\n",
       "    }\n",
       "</style>\n",
       "<table border=\"1\" class=\"dataframe\">\n",
       "  <thead>\n",
       "    <tr style=\"text-align: right;\">\n",
       "      <th></th>\n",
       "      <th>fips</th>\n",
       "      <th>admin2</th>\n",
       "      <th>province_state</th>\n",
       "      <th>country_region</th>\n",
       "      <th>last_update</th>\n",
       "      <th>latitude</th>\n",
       "      <th>longitude</th>\n",
       "      <th>confirmed</th>\n",
       "      <th>deaths</th>\n",
       "      <th>recovered</th>\n",
       "      <th>active</th>\n",
       "      <th>combined_key</th>\n",
       "    </tr>\n",
       "  </thead>\n",
       "  <tbody>\n",
       "    <tr>\n",
       "      <th>0</th>\n",
       "      <td>NaN</td>\n",
       "      <td>NaN</td>\n",
       "      <td>Anhui</td>\n",
       "      <td>China</td>\n",
       "      <td>2020-01-22T17:00:00</td>\n",
       "      <td>31.826</td>\n",
       "      <td>117.226</td>\n",
       "      <td>1.0</td>\n",
       "      <td>NaN</td>\n",
       "      <td>NaN</td>\n",
       "      <td>NaN</td>\n",
       "      <td>\"Anhui</td>\n",
       "    </tr>\n",
       "    <tr>\n",
       "      <th>1</th>\n",
       "      <td>NaN</td>\n",
       "      <td>NaN</td>\n",
       "      <td>Beijing</td>\n",
       "      <td>China</td>\n",
       "      <td>2020-01-22T17:00:00</td>\n",
       "      <td>40.182</td>\n",
       "      <td>116.414</td>\n",
       "      <td>14.0</td>\n",
       "      <td>NaN</td>\n",
       "      <td>NaN</td>\n",
       "      <td>NaN</td>\n",
       "      <td>\"Beijing</td>\n",
       "    </tr>\n",
       "    <tr>\n",
       "      <th>2</th>\n",
       "      <td>NaN</td>\n",
       "      <td>NaN</td>\n",
       "      <td>Chongqing</td>\n",
       "      <td>China</td>\n",
       "      <td>2020-01-22T17:00:00</td>\n",
       "      <td>30.057</td>\n",
       "      <td>107.874</td>\n",
       "      <td>6.0</td>\n",
       "      <td>NaN</td>\n",
       "      <td>NaN</td>\n",
       "      <td>NaN</td>\n",
       "      <td>\"Chongqing</td>\n",
       "    </tr>\n",
       "    <tr>\n",
       "      <th>3</th>\n",
       "      <td>NaN</td>\n",
       "      <td>NaN</td>\n",
       "      <td>Fujian</td>\n",
       "      <td>China</td>\n",
       "      <td>2020-01-22T17:00:00</td>\n",
       "      <td>26.079</td>\n",
       "      <td>117.987</td>\n",
       "      <td>1.0</td>\n",
       "      <td>NaN</td>\n",
       "      <td>NaN</td>\n",
       "      <td>NaN</td>\n",
       "      <td>\"Fujian</td>\n",
       "    </tr>\n",
       "    <tr>\n",
       "      <th>4</th>\n",
       "      <td>NaN</td>\n",
       "      <td>NaN</td>\n",
       "      <td>Gansu</td>\n",
       "      <td>China</td>\n",
       "      <td>2020-01-22T17:00:00</td>\n",
       "      <td>36.061</td>\n",
       "      <td>103.834</td>\n",
       "      <td>NaN</td>\n",
       "      <td>NaN</td>\n",
       "      <td>NaN</td>\n",
       "      <td>NaN</td>\n",
       "      <td>\"Gansu</td>\n",
       "    </tr>\n",
       "  </tbody>\n",
       "</table>\n",
       "</div>"
      ],
      "text/plain": [
       "   fips admin2 province_state country_region          last_update  latitude  \\\n",
       "0   NaN    NaN          Anhui          China  2020-01-22T17:00:00    31.826   \n",
       "1   NaN    NaN        Beijing          China  2020-01-22T17:00:00    40.182   \n",
       "2   NaN    NaN      Chongqing          China  2020-01-22T17:00:00    30.057   \n",
       "3   NaN    NaN         Fujian          China  2020-01-22T17:00:00    26.079   \n",
       "4   NaN    NaN          Gansu          China  2020-01-22T17:00:00    36.061   \n",
       "\n",
       "   longitude  confirmed  deaths  recovered  active combined_key  \n",
       "0    117.226        1.0     NaN        NaN     NaN       \"Anhui  \n",
       "1    116.414       14.0     NaN        NaN     NaN     \"Beijing  \n",
       "2    107.874        6.0     NaN        NaN     NaN   \"Chongqing  \n",
       "3    117.987        1.0     NaN        NaN     NaN      \"Fujian  \n",
       "4    103.834        NaN     NaN        NaN     NaN       \"Gansu  "
      ]
     },
     "execution_count": 97,
     "metadata": {},
     "output_type": "execute_result"
    }
   ],
   "source": [
    "enigmaup_jhu_csv.head()"
   ]
  },
  {
   "cell_type": "code",
   "execution_count": 46,
   "id": "c2fdb7d0-cd22-4bc4-acce-ba842fcfca8d",
   "metadata": {},
   "outputs": [],
   "source": [
    "response = athena_client.start_query_execution(\n",
    "    QueryString=\"SELECT * FROM enigma_nytimes_data_in_usaus_county\",\n",
    "    QueryExecutionContext={\"Database\":SCHEMA_NAME},\n",
    "    ResultConfiguration={\"OutputLocation\":S3_STAGING_DIR ,\n",
    "                        \"EncryptionConfiguration\":{\"EncryptionOption\":\"SSE_S3\"},\n",
    "                        },\n",
    ")\n",
    "\n",
    "enigma_nytimes_data_in_usaus_county = download_and_load_query_results(athena_client, response)"
   ]
  },
  {
   "cell_type": "code",
   "execution_count": 47,
   "id": "f375b994-cedb-4923-a43a-084d795156b4",
   "metadata": {},
   "outputs": [
    {
     "data": {
      "text/html": [
       "<div>\n",
       "<style scoped>\n",
       "    .dataframe tbody tr th:only-of-type {\n",
       "        vertical-align: middle;\n",
       "    }\n",
       "\n",
       "    .dataframe tbody tr th {\n",
       "        vertical-align: top;\n",
       "    }\n",
       "\n",
       "    .dataframe thead th {\n",
       "        text-align: right;\n",
       "    }\n",
       "</style>\n",
       "<table border=\"1\" class=\"dataframe\">\n",
       "  <thead>\n",
       "    <tr style=\"text-align: right;\">\n",
       "      <th></th>\n",
       "      <th>date</th>\n",
       "      <th>county</th>\n",
       "      <th>state</th>\n",
       "      <th>fips</th>\n",
       "      <th>cases</th>\n",
       "      <th>deaths</th>\n",
       "    </tr>\n",
       "  </thead>\n",
       "  <tbody>\n",
       "    <tr>\n",
       "      <th>0</th>\n",
       "      <td>2020-01-21</td>\n",
       "      <td>Snohomish</td>\n",
       "      <td>Washington</td>\n",
       "      <td>53061.0</td>\n",
       "      <td>1.0</td>\n",
       "      <td>0.0</td>\n",
       "    </tr>\n",
       "    <tr>\n",
       "      <th>1</th>\n",
       "      <td>2020-01-22</td>\n",
       "      <td>Snohomish</td>\n",
       "      <td>Washington</td>\n",
       "      <td>53061.0</td>\n",
       "      <td>1.0</td>\n",
       "      <td>0.0</td>\n",
       "    </tr>\n",
       "    <tr>\n",
       "      <th>2</th>\n",
       "      <td>2020-01-23</td>\n",
       "      <td>Snohomish</td>\n",
       "      <td>Washington</td>\n",
       "      <td>53061.0</td>\n",
       "      <td>1.0</td>\n",
       "      <td>0.0</td>\n",
       "    </tr>\n",
       "    <tr>\n",
       "      <th>3</th>\n",
       "      <td>2020-01-24</td>\n",
       "      <td>Cook</td>\n",
       "      <td>Illinois</td>\n",
       "      <td>17031.0</td>\n",
       "      <td>1.0</td>\n",
       "      <td>0.0</td>\n",
       "    </tr>\n",
       "    <tr>\n",
       "      <th>4</th>\n",
       "      <td>2020-01-24</td>\n",
       "      <td>Snohomish</td>\n",
       "      <td>Washington</td>\n",
       "      <td>53061.0</td>\n",
       "      <td>1.0</td>\n",
       "      <td>0.0</td>\n",
       "    </tr>\n",
       "  </tbody>\n",
       "</table>\n",
       "</div>"
      ],
      "text/plain": [
       "         date     county       state     fips  cases  deaths\n",
       "0  2020-01-21  Snohomish  Washington  53061.0    1.0     0.0\n",
       "1  2020-01-22  Snohomish  Washington  53061.0    1.0     0.0\n",
       "2  2020-01-23  Snohomish  Washington  53061.0    1.0     0.0\n",
       "3  2020-01-24       Cook    Illinois  17031.0    1.0     0.0\n",
       "4  2020-01-24  Snohomish  Washington  53061.0    1.0     0.0"
      ]
     },
     "execution_count": 47,
     "metadata": {},
     "output_type": "execute_result"
    }
   ],
   "source": [
    "enigma_nytimes_data_in_usaus_county.head()"
   ]
  },
  {
   "cell_type": "code",
   "execution_count": 48,
   "id": "2fffd4fd-b4ea-4add-bd37-5b103d4a6da7",
   "metadata": {},
   "outputs": [],
   "source": [
    "response = athena_client.start_query_execution(\n",
    "    QueryString=\"SELECT * FROM enigma_nytimes_dataus_states\",\n",
    "    QueryExecutionContext={\"Database\":SCHEMA_NAME},\n",
    "    ResultConfiguration={\"OutputLocation\":S3_STAGING_DIR ,\n",
    "                        \"EncryptionConfiguration\":{\"EncryptionOption\":\"SSE_S3\"},\n",
    "                        },\n",
    ")\n",
    "\n",
    "enigma_nytimes_dataus_states = download_and_load_query_results(athena_client, response)"
   ]
  },
  {
   "cell_type": "code",
   "execution_count": 49,
   "id": "36cfa174-a919-46b0-91da-3c436950068d",
   "metadata": {},
   "outputs": [],
   "source": [
    "response = athena_client.start_query_execution(\n",
    "    QueryString=\"SELECT * FROM static_datasets_countypopulation\",\n",
    "    QueryExecutionContext={\"Database\":SCHEMA_NAME},\n",
    "    ResultConfiguration={\"OutputLocation\":S3_STAGING_DIR ,\n",
    "                        \"EncryptionConfiguration\":{\"EncryptionOption\":\"SSE_S3\"},\n",
    "                        },\n",
    ")\n",
    "\n",
    "static_datasets_countypopulation = download_and_load_query_results(athena_client, response)\n"
   ]
  },
  {
   "cell_type": "code",
   "execution_count": 58,
   "id": "5b2fcec0-b7ed-4243-9b84-4c15d923671d",
   "metadata": {},
   "outputs": [],
   "source": [
    "response = athena_client.start_query_execution(\n",
    "    QueryString=\"SELECT * FROM rearc_usa_hospital_bedsusa_hospital_beds_geojson_4cca297c\",\n",
    "    QueryExecutionContext={\"Database\":SCHEMA_NAME},\n",
    "    ResultConfiguration={\"OutputLocation\":S3_STAGING_DIR ,\n",
    "                        \"EncryptionConfiguration\":{\"EncryptionOption\":\"SSE_S3\"},\n",
    "                        },\n",
    ")\n",
    "\n",
    "rearc_usa_hospital_bedsusa_hospital_beds_geojson_4cca297c = download_and_load_query_results(athena_client, response)"
   ]
  },
  {
   "cell_type": "code",
   "execution_count": 51,
   "id": "6e97dda9-6ee0-405c-b4d4-f050db7aa666",
   "metadata": {},
   "outputs": [],
   "source": [
    "response = athena_client.start_query_execution(\n",
    "    QueryString=\"SELECT * FROM static_datasets_state_abv\",\n",
    "    QueryExecutionContext={\"Database\":SCHEMA_NAME},\n",
    "    ResultConfiguration={\"OutputLocation\":S3_STAGING_DIR ,\n",
    "                        \"EncryptionConfiguration\":{\"EncryptionOption\":\"SSE_S3\"},\n",
    "                        },\n",
    ")\n",
    "\n",
    "static_datasets_state_abv = download_and_load_query_results(athena_client, response)"
   ]
  },
  {
   "cell_type": "code",
   "execution_count": 53,
   "id": "5c11bbb4-80e2-424c-8b87-09a224333c2b",
   "metadata": {},
   "outputs": [
    {
     "data": {
      "text/html": [
       "<div>\n",
       "<style scoped>\n",
       "    .dataframe tbody tr th:only-of-type {\n",
       "        vertical-align: middle;\n",
       "    }\n",
       "\n",
       "    .dataframe tbody tr th {\n",
       "        vertical-align: top;\n",
       "    }\n",
       "\n",
       "    .dataframe thead th {\n",
       "        text-align: right;\n",
       "    }\n",
       "</style>\n",
       "<table border=\"1\" class=\"dataframe\">\n",
       "  <thead>\n",
       "    <tr style=\"text-align: right;\">\n",
       "      <th></th>\n",
       "      <th>col0</th>\n",
       "      <th>col1</th>\n",
       "    </tr>\n",
       "  </thead>\n",
       "  <tbody>\n",
       "    <tr>\n",
       "      <th>0</th>\n",
       "      <td>State</td>\n",
       "      <td>Abbreviation</td>\n",
       "    </tr>\n",
       "    <tr>\n",
       "      <th>1</th>\n",
       "      <td>Alabama</td>\n",
       "      <td>AL</td>\n",
       "    </tr>\n",
       "    <tr>\n",
       "      <th>2</th>\n",
       "      <td>Alaska</td>\n",
       "      <td>AK</td>\n",
       "    </tr>\n",
       "    <tr>\n",
       "      <th>3</th>\n",
       "      <td>Arizona</td>\n",
       "      <td>AZ</td>\n",
       "    </tr>\n",
       "    <tr>\n",
       "      <th>4</th>\n",
       "      <td>Arkansas</td>\n",
       "      <td>AR</td>\n",
       "    </tr>\n",
       "  </tbody>\n",
       "</table>\n",
       "</div>"
      ],
      "text/plain": [
       "       col0          col1\n",
       "0     State  Abbreviation\n",
       "1   Alabama            AL\n",
       "2    Alaska            AK\n",
       "3   Arizona            AZ\n",
       "4  Arkansas            AR"
      ]
     },
     "execution_count": 53,
     "metadata": {},
     "output_type": "execute_result"
    }
   ],
   "source": [
    "static_datasets_state_abv.head()"
   ]
  },
  {
   "cell_type": "code",
   "execution_count": 54,
   "id": "2fca10a0-d2a5-4081-ba0b-de9e84286a73",
   "metadata": {},
   "outputs": [],
   "source": [
    "new_header = static_datasets_state_abv.iloc[0] #grab the first row for the header"
   ]
  },
  {
   "cell_type": "code",
   "execution_count": 55,
   "id": "70759d9e-3620-4588-bd00-12a211b5315b",
   "metadata": {},
   "outputs": [],
   "source": [
    "static_datasets_state_abv = static_datasets_state_abv[1:] #slicing , take the data less than the header row"
   ]
  },
  {
   "cell_type": "code",
   "execution_count": 57,
   "id": "68fc7050-f7f8-4faf-96a4-74c8dce06252",
   "metadata": {},
   "outputs": [
    {
     "data": {
      "text/html": [
       "<div>\n",
       "<style scoped>\n",
       "    .dataframe tbody tr th:only-of-type {\n",
       "        vertical-align: middle;\n",
       "    }\n",
       "\n",
       "    .dataframe tbody tr th {\n",
       "        vertical-align: top;\n",
       "    }\n",
       "\n",
       "    .dataframe thead th {\n",
       "        text-align: right;\n",
       "    }\n",
       "</style>\n",
       "<table border=\"1\" class=\"dataframe\">\n",
       "  <thead>\n",
       "    <tr style=\"text-align: right;\">\n",
       "      <th></th>\n",
       "      <th>col0</th>\n",
       "      <th>col1</th>\n",
       "    </tr>\n",
       "  </thead>\n",
       "  <tbody>\n",
       "    <tr>\n",
       "      <th>1</th>\n",
       "      <td>Alabama</td>\n",
       "      <td>AL</td>\n",
       "    </tr>\n",
       "    <tr>\n",
       "      <th>2</th>\n",
       "      <td>Alaska</td>\n",
       "      <td>AK</td>\n",
       "    </tr>\n",
       "    <tr>\n",
       "      <th>3</th>\n",
       "      <td>Arizona</td>\n",
       "      <td>AZ</td>\n",
       "    </tr>\n",
       "    <tr>\n",
       "      <th>4</th>\n",
       "      <td>Arkansas</td>\n",
       "      <td>AR</td>\n",
       "    </tr>\n",
       "    <tr>\n",
       "      <th>5</th>\n",
       "      <td>California</td>\n",
       "      <td>CA</td>\n",
       "    </tr>\n",
       "  </tbody>\n",
       "</table>\n",
       "</div>"
      ],
      "text/plain": [
       "         col0 col1\n",
       "1     Alabama   AL\n",
       "2      Alaska   AK\n",
       "3     Arizona   AZ\n",
       "4    Arkansas   AR\n",
       "5  California   CA"
      ]
     },
     "execution_count": 57,
     "metadata": {},
     "output_type": "execute_result"
    }
   ],
   "source": [
    "static_datasets_state_abv.head()"
   ]
  },
  {
   "cell_type": "code",
   "execution_count": 63,
   "id": "09787560-9d0d-413f-adba-e2c7c22c2801",
   "metadata": {},
   "outputs": [],
   "source": [
    "response = athena_client.start_query_execution(\n",
    "    QueryString=\"SELECT * FROM rearc_covid_19_testing_datastates_daily\",\n",
    "    QueryExecutionContext={\"Database\":SCHEMA_NAME},\n",
    "    ResultConfiguration={\"OutputLocation\":S3_STAGING_DIR ,\n",
    "                        \"EncryptionConfiguration\":{\"EncryptionOption\":\"SSE_S3\"},\n",
    "                        },\n",
    ")\n",
    "\n",
    "rearc_covid_19_testing_datastates_daily = download_and_load_query_results(athena_client, response)"
   ]
  },
  {
   "cell_type": "code",
   "execution_count": 62,
   "id": "b4b3b8bc-67b0-4622-9346-7dc0ea327a97",
   "metadata": {},
   "outputs": [],
   "source": [
    "response = athena_client.start_query_execution(\n",
    "    QueryString=\"SELECT * FROM rearc_covid_19_testing_dataus_daily\",\n",
    "    QueryExecutionContext={\"Database\":SCHEMA_NAME},\n",
    "    ResultConfiguration={\"OutputLocation\":S3_STAGING_DIR ,\n",
    "                        \"EncryptionConfiguration\":{\"EncryptionOption\":\"SSE_S3\"},\n",
    "                        },\n",
    ")\n",
    "\n",
    "rearc_covid_19_testing_dataus_daily = download_and_load_query_results(athena_client, response)"
   ]
  },
  {
   "cell_type": "code",
   "execution_count": 64,
   "id": "61d2e30d-0785-44b6-94e8-69ff80e7233d",
   "metadata": {},
   "outputs": [],
   "source": [
    "response = athena_client.start_query_execution(\n",
    "    QueryString=\"SELECT * FROM rearc_covid_19_testing_dataus_total_latest\",\n",
    "    QueryExecutionContext={\"Database\":SCHEMA_NAME},\n",
    "    ResultConfiguration={\"OutputLocation\":S3_STAGING_DIR ,\n",
    "                        \"EncryptionConfiguration\":{\"EncryptionOption\":\"SSE_S3\"},\n",
    "                        },\n",
    ")\n",
    "\n",
    "rearc_covid_19_testing_dataus_total_latest = download_and_load_query_results(athena_client, response)\n"
   ]
  },
  {
   "cell_type": "code",
   "execution_count": null,
   "id": "eef00a57-64b6-4cff-a33e-8567fbad8f64",
   "metadata": {},
   "outputs": [],
   "source": [
    "us_total_latest.head() #Checking the dataframe"
   ]
  },
  {
   "cell_type": "code",
   "execution_count": null,
   "id": "d7506e87-dad7-426b-8174-b2538cb90903",
   "metadata": {},
   "outputs": [],
   "source": []
  },
  {
   "cell_type": "code",
   "execution_count": 99,
   "id": "04e8559e-6839-4e3f-abc2-676258e6d0c7",
   "metadata": {},
   "outputs": [],
   "source": [
    "factCovid_1 = enigmaup_jhu_csv[['fips','province_state','country_region','confirmed','deaths','recovered','active']]\n",
    "factCovid_2 = rearc_covid_19_testing_datastates_daily[['fips','date','positive','negative','hospitalizedcurrently','hospitalized','hospitalizeddischarged']]\n",
    "factCovid = pd.merge(factCovid_1,factCovid_2,on='fips',how='inner')"
   ]
  },
  {
   "cell_type": "code",
   "execution_count": 101,
   "id": "52233acf-8d76-4bf8-9d90-d5083f1f4bf7",
   "metadata": {},
   "outputs": [
    {
     "data": {
      "text/plain": [
       "(27992, 13)"
      ]
     },
     "execution_count": 101,
     "metadata": {},
     "output_type": "execute_result"
    }
   ],
   "source": [
    "factCovid.shape"
   ]
  },
  {
   "cell_type": "code",
   "execution_count": 103,
   "id": "ce7fa86d-bb42-42cb-8c17-8405d9e520b1",
   "metadata": {},
   "outputs": [],
   "source": [
    "dimRegion_1 = enigmaup_jhu_csv[['fips','province_state','country_region','latitude','longitude']]\n",
    "dimRegion_2 = enigma_nytimes_data_in_usaus_county[['fips','county','state']]\n",
    "dimRegion = pd.merge(dimRegion_1,dimRegion_2,on='fips',how='inner')"
   ]
  },
  {
   "cell_type": "code",
   "execution_count": 105,
   "id": "ae1f74a7-c89f-40ea-b8ca-9bda45a8607c",
   "metadata": {},
   "outputs": [],
   "source": [
    "dimHospital = rearc_usa_hospital_bedsusa_hospital_beds_geojson_4cca297c[['fips','state_name','latitude','longtitude','hq_address','hospital_name','hospital_type','hq_city','hq_state']]\n"
   ]
  },
  {
   "cell_type": "code",
   "execution_count": 107,
   "id": "364491cc-7a60-4340-ae0b-815f89d30e50",
   "metadata": {},
   "outputs": [],
   "source": [
    "dimDate = rearc_covid_19_testing_datastates_daily[['fips','date']]"
   ]
  },
  {
   "cell_type": "code",
   "execution_count": 108,
   "id": "6ed5335e-888d-49b7-a19c-98e1988417b3",
   "metadata": {},
   "outputs": [
    {
     "data": {
      "text/html": [
       "<div>\n",
       "<style scoped>\n",
       "    .dataframe tbody tr th:only-of-type {\n",
       "        vertical-align: middle;\n",
       "    }\n",
       "\n",
       "    .dataframe tbody tr th {\n",
       "        vertical-align: top;\n",
       "    }\n",
       "\n",
       "    .dataframe thead th {\n",
       "        text-align: right;\n",
       "    }\n",
       "</style>\n",
       "<table border=\"1\" class=\"dataframe\">\n",
       "  <thead>\n",
       "    <tr style=\"text-align: right;\">\n",
       "      <th></th>\n",
       "      <th>fips</th>\n",
       "      <th>date</th>\n",
       "    </tr>\n",
       "  </thead>\n",
       "  <tbody>\n",
       "    <tr>\n",
       "      <th>0</th>\n",
       "      <td>2.0</td>\n",
       "      <td>20210307</td>\n",
       "    </tr>\n",
       "    <tr>\n",
       "      <th>1</th>\n",
       "      <td>1.0</td>\n",
       "      <td>20210307</td>\n",
       "    </tr>\n",
       "    <tr>\n",
       "      <th>2</th>\n",
       "      <td>5.0</td>\n",
       "      <td>20210307</td>\n",
       "    </tr>\n",
       "    <tr>\n",
       "      <th>3</th>\n",
       "      <td>60.0</td>\n",
       "      <td>20210307</td>\n",
       "    </tr>\n",
       "    <tr>\n",
       "      <th>4</th>\n",
       "      <td>4.0</td>\n",
       "      <td>20210307</td>\n",
       "    </tr>\n",
       "  </tbody>\n",
       "</table>\n",
       "</div>"
      ],
      "text/plain": [
       "   fips      date\n",
       "0   2.0  20210307\n",
       "1   1.0  20210307\n",
       "2   5.0  20210307\n",
       "3  60.0  20210307\n",
       "4   4.0  20210307"
      ]
     },
     "execution_count": 108,
     "metadata": {},
     "output_type": "execute_result"
    }
   ],
   "source": [
    "dimDate.head()"
   ]
  },
  {
   "cell_type": "code",
   "execution_count": 109,
   "id": "db6dcad4-61e6-4c3e-8160-10a86f8822be",
   "metadata": {},
   "outputs": [
    {
     "name": "stderr",
     "output_type": "stream",
     "text": [
      "C:\\Users\\Lenovo\\AppData\\Local\\Temp\\ipykernel_7256\\572748324.py:1: SettingWithCopyWarning: \n",
      "A value is trying to be set on a copy of a slice from a DataFrame.\n",
      "Try using .loc[row_indexer,col_indexer] = value instead\n",
      "\n",
      "See the caveats in the documentation: https://pandas.pydata.org/pandas-docs/stable/user_guide/indexing.html#returning-a-view-versus-a-copy\n",
      "  dimDate['date'] = pd.to_datetime(dimDate['date'], format='%Y%m%d')\n"
     ]
    }
   ],
   "source": [
    "dimDate['date'] = pd.to_datetime(dimDate['date'], format='%Y%m%d')"
   ]
  },
  {
   "cell_type": "code",
   "execution_count": 119,
   "id": "cb7d8b63-211b-454d-a2ae-5bfea35e4ab9",
   "metadata": {},
   "outputs": [
    {
     "data": {
      "text/html": [
       "<div>\n",
       "<style scoped>\n",
       "    .dataframe tbody tr th:only-of-type {\n",
       "        vertical-align: middle;\n",
       "    }\n",
       "\n",
       "    .dataframe tbody tr th {\n",
       "        vertical-align: top;\n",
       "    }\n",
       "\n",
       "    .dataframe thead th {\n",
       "        text-align: right;\n",
       "    }\n",
       "</style>\n",
       "<table border=\"1\" class=\"dataframe\">\n",
       "  <thead>\n",
       "    <tr style=\"text-align: right;\">\n",
       "      <th></th>\n",
       "      <th>fips</th>\n",
       "      <th>date</th>\n",
       "      <th>year</th>\n",
       "      <th>month</th>\n",
       "      <th>day_of_week</th>\n",
       "    </tr>\n",
       "  </thead>\n",
       "  <tbody>\n",
       "    <tr>\n",
       "      <th>0</th>\n",
       "      <td>2.0</td>\n",
       "      <td>1970-01-01 00:00:00.000000003</td>\n",
       "      <td>1970</td>\n",
       "      <td>1</td>\n",
       "      <td>3</td>\n",
       "    </tr>\n",
       "    <tr>\n",
       "      <th>1</th>\n",
       "      <td>1.0</td>\n",
       "      <td>1970-01-01 00:00:00.000000003</td>\n",
       "      <td>1970</td>\n",
       "      <td>1</td>\n",
       "      <td>3</td>\n",
       "    </tr>\n",
       "    <tr>\n",
       "      <th>2</th>\n",
       "      <td>5.0</td>\n",
       "      <td>1970-01-01 00:00:00.000000003</td>\n",
       "      <td>1970</td>\n",
       "      <td>1</td>\n",
       "      <td>3</td>\n",
       "    </tr>\n",
       "    <tr>\n",
       "      <th>3</th>\n",
       "      <td>60.0</td>\n",
       "      <td>1970-01-01 00:00:00.000000003</td>\n",
       "      <td>1970</td>\n",
       "      <td>1</td>\n",
       "      <td>3</td>\n",
       "    </tr>\n",
       "    <tr>\n",
       "      <th>4</th>\n",
       "      <td>4.0</td>\n",
       "      <td>1970-01-01 00:00:00.000000003</td>\n",
       "      <td>1970</td>\n",
       "      <td>1</td>\n",
       "      <td>3</td>\n",
       "    </tr>\n",
       "  </tbody>\n",
       "</table>\n",
       "</div>"
      ],
      "text/plain": [
       "   fips                          date  year  month  day_of_week\n",
       "0   2.0 1970-01-01 00:00:00.000000003  1970      1            3\n",
       "1   1.0 1970-01-01 00:00:00.000000003  1970      1            3\n",
       "2   5.0 1970-01-01 00:00:00.000000003  1970      1            3\n",
       "3  60.0 1970-01-01 00:00:00.000000003  1970      1            3\n",
       "4   4.0 1970-01-01 00:00:00.000000003  1970      1            3"
      ]
     },
     "execution_count": 119,
     "metadata": {},
     "output_type": "execute_result"
    }
   ],
   "source": [
    "dimDate.head()"
   ]
  },
  {
   "cell_type": "code",
   "execution_count": 122,
   "id": "d6b152d3-592e-4201-bc6a-a85a9f594fcb",
   "metadata": {},
   "outputs": [
    {
     "name": "stderr",
     "output_type": "stream",
     "text": [
      "C:\\Users\\Lenovo\\AppData\\Local\\Temp\\ipykernel_7256\\2445661104.py:1: SettingWithCopyWarning: \n",
      "A value is trying to be set on a copy of a slice from a DataFrame.\n",
      "Try using .loc[row_indexer,col_indexer] = value instead\n",
      "\n",
      "See the caveats in the documentation: https://pandas.pydata.org/pandas-docs/stable/user_guide/indexing.html#returning-a-view-versus-a-copy\n",
      "  dimDate['year'] = dimDate['date'].dt.year\n",
      "C:\\Users\\Lenovo\\AppData\\Local\\Temp\\ipykernel_7256\\2445661104.py:2: SettingWithCopyWarning: \n",
      "A value is trying to be set on a copy of a slice from a DataFrame.\n",
      "Try using .loc[row_indexer,col_indexer] = value instead\n",
      "\n",
      "See the caveats in the documentation: https://pandas.pydata.org/pandas-docs/stable/user_guide/indexing.html#returning-a-view-versus-a-copy\n",
      "  dimDate['month'] = dimDate['date'].dt.month\n",
      "C:\\Users\\Lenovo\\AppData\\Local\\Temp\\ipykernel_7256\\2445661104.py:3: SettingWithCopyWarning: \n",
      "A value is trying to be set on a copy of a slice from a DataFrame.\n",
      "Try using .loc[row_indexer,col_indexer] = value instead\n",
      "\n",
      "See the caveats in the documentation: https://pandas.pydata.org/pandas-docs/stable/user_guide/indexing.html#returning-a-view-versus-a-copy\n",
      "  dimDate[\"day_of_week\"] = dimDate['date'].dt.dayofweek\n"
     ]
    }
   ],
   "source": [
    "dimDate['year'] = dimDate['date'].dt.year\n",
    "dimDate['month'] = dimDate['date'].dt.month\n",
    "dimDate[\"day_of_week\"] = dimDate['date'].dt.dayofweek"
   ]
  },
  {
   "cell_type": "code",
   "execution_count": 123,
   "id": "3e6148e5-4c1d-4265-b10f-2e38d6d0469b",
   "metadata": {},
   "outputs": [
    {
     "data": {
      "text/html": [
       "<div>\n",
       "<style scoped>\n",
       "    .dataframe tbody tr th:only-of-type {\n",
       "        vertical-align: middle;\n",
       "    }\n",
       "\n",
       "    .dataframe tbody tr th {\n",
       "        vertical-align: top;\n",
       "    }\n",
       "\n",
       "    .dataframe thead th {\n",
       "        text-align: right;\n",
       "    }\n",
       "</style>\n",
       "<table border=\"1\" class=\"dataframe\">\n",
       "  <thead>\n",
       "    <tr style=\"text-align: right;\">\n",
       "      <th></th>\n",
       "      <th>fips</th>\n",
       "      <th>date</th>\n",
       "      <th>year</th>\n",
       "      <th>month</th>\n",
       "      <th>day_of_week</th>\n",
       "    </tr>\n",
       "  </thead>\n",
       "  <tbody>\n",
       "    <tr>\n",
       "      <th>0</th>\n",
       "      <td>2.0</td>\n",
       "      <td>1970-01-01 00:00:00.000000003</td>\n",
       "      <td>1970</td>\n",
       "      <td>1</td>\n",
       "      <td>3</td>\n",
       "    </tr>\n",
       "    <tr>\n",
       "      <th>1</th>\n",
       "      <td>1.0</td>\n",
       "      <td>1970-01-01 00:00:00.000000003</td>\n",
       "      <td>1970</td>\n",
       "      <td>1</td>\n",
       "      <td>3</td>\n",
       "    </tr>\n",
       "    <tr>\n",
       "      <th>2</th>\n",
       "      <td>5.0</td>\n",
       "      <td>1970-01-01 00:00:00.000000003</td>\n",
       "      <td>1970</td>\n",
       "      <td>1</td>\n",
       "      <td>3</td>\n",
       "    </tr>\n",
       "    <tr>\n",
       "      <th>3</th>\n",
       "      <td>60.0</td>\n",
       "      <td>1970-01-01 00:00:00.000000003</td>\n",
       "      <td>1970</td>\n",
       "      <td>1</td>\n",
       "      <td>3</td>\n",
       "    </tr>\n",
       "    <tr>\n",
       "      <th>4</th>\n",
       "      <td>4.0</td>\n",
       "      <td>1970-01-01 00:00:00.000000003</td>\n",
       "      <td>1970</td>\n",
       "      <td>1</td>\n",
       "      <td>3</td>\n",
       "    </tr>\n",
       "  </tbody>\n",
       "</table>\n",
       "</div>"
      ],
      "text/plain": [
       "   fips                          date  year  month  day_of_week\n",
       "0   2.0 1970-01-01 00:00:00.000000003  1970      1            3\n",
       "1   1.0 1970-01-01 00:00:00.000000003  1970      1            3\n",
       "2   5.0 1970-01-01 00:00:00.000000003  1970      1            3\n",
       "3  60.0 1970-01-01 00:00:00.000000003  1970      1            3\n",
       "4   4.0 1970-01-01 00:00:00.000000003  1970      1            3"
      ]
     },
     "execution_count": 123,
     "metadata": {},
     "output_type": "execute_result"
    }
   ],
   "source": [
    "dimDate.head()"
   ]
  },
  {
   "cell_type": "markdown",
   "id": "22ffbfb3-9292-4299-abef-beea8ec6b949",
   "metadata": {},
   "source": [
    "# saving to s3"
   ]
  },
  {
   "cell_type": "code",
   "execution_count": null,
   "id": "c8f78f86-fe18-4956-a618-55a2a63a2cb2",
   "metadata": {},
   "outputs": [],
   "source": [
    "bucket = 'oovk-covid-project-output-buck'"
   ]
  },
  {
   "cell_type": "code",
   "execution_count": null,
   "id": "bd02bf5b-cdeb-4550-a1f7-11768042c308",
   "metadata": {},
   "outputs": [],
   "source": [
    "csv_buffer = StringIO()\n",
    "factCovid.to_csv(csv_buffer)\n",
    "s3_resource = boto3.resource('s3')\n",
    "s3_resource.Object(bucket,'output/factCovid.csv').put(Body=csv_buffer.getvalue())"
   ]
  },
  {
   "cell_type": "code",
   "execution_count": null,
   "id": "82d51de1-c535-48ad-94da-5098eba2e15b",
   "metadata": {},
   "outputs": [],
   "source": [
    "csv_buffer.getvalue()"
   ]
  },
  {
   "cell_type": "code",
   "execution_count": null,
   "id": "d119693f-264c-45d0-b8e3-14c3197b84b7",
   "metadata": {},
   "outputs": [],
   "source": []
  },
  {
   "cell_type": "code",
   "execution_count": null,
   "id": "42e6a739-274f-4202-a6db-92bef469823a",
   "metadata": {},
   "outputs": [],
   "source": [
    "dimDatesql = pd.io.sql.get_schema(dimDate.reset_index(),'dimDate')\n",
    "print(''.join(dimDatesql))"
   ]
  },
  {
   "cell_type": "code",
   "execution_count": null,
   "id": "ed962d6a-6657-4edf-95c0-9aa30c4ceeba",
   "metadata": {},
   "outputs": [],
   "source": [
    "factCovidsql = pd.io.sql.get_schema(factCovid.reset_index(),'factCovid')\n",
    "print(''.join(factCovidsql))\n"
   ]
  },
  {
   "cell_type": "code",
   "execution_count": null,
   "id": "a727b256-dc08-445f-9af4-730253d8f765",
   "metadata": {},
   "outputs": [],
   "source": [
    "dimRegionsql = pd.io.sql.get_schema(dimRegion.reset_index(),'dimRegion')\n",
    "print(''.join(dimRegionsql))\n"
   ]
  },
  {
   "cell_type": "code",
   "execution_count": null,
   "id": "94cd0bde-1698-428e-a147-add56e771982",
   "metadata": {},
   "outputs": [],
   "source": [
    "dimHospitalsql = pd.io.sql.get_schema(dimHospital.reset_index(),'dimHospital')\n",
    "print(''.join(dimHospitalsql))\n"
   ]
  },
  {
   "cell_type": "markdown",
   "id": "8348dae1-9701-418e-9eba-9e01cf304adb",
   "metadata": {},
   "source": [
    "## TO connect & create table in Redshift "
   ]
  },
  {
   "cell_type": "code",
   "execution_count": null,
   "id": "d5fb29ff-27ca-4347-ae2e-c5b0ae65e66d",
   "metadata": {},
   "outputs": [],
   "source": [
    "import redshift_connector\n"
   ]
  },
  {
   "cell_type": "code",
   "execution_count": null,
   "id": "175f42f9-b207-4dcf-a2e5-35e26c6e1df2",
   "metadata": {},
   "outputs": [],
   "source": [
    "conn = redshift_connector.connect(\n",
    "    host='',\n",
    "    databse='dev',\n",
    "    user='awsuser',\n",
    "    password='Passw0rd123'\n",
    ")"
   ]
  },
  {
   "cell_type": "code",
   "execution_count": null,
   "id": "e8c7bb2d-f688-44ed-818f-b2ceb48ff8bf",
   "metadata": {},
   "outputs": [],
   "source": [
    "conn.autocommit = True"
   ]
  },
  {
   "cell_type": "code",
   "execution_count": null,
   "id": "08796f61-ec20-48ad-9756-ef9233ef933d",
   "metadata": {},
   "outputs": [],
   "source": [
    "cursor=redshift_connector.Cursor = conn.cursor()\n"
   ]
  },
  {
   "cell_type": "code",
   "execution_count": null,
   "id": "edc6a757-fff7-43c8-bc6b-a33cadedcbf6",
   "metadata": {},
   "outputs": [],
   "source": [
    "cursor.execute(\"\"\"\n",
    "CREATE TABLE \"dimDate\" (\n",
    "\"index\" INTEGER,\n",
    "\"fips\" INTEGER,\n",
    "\"date\" TIMESTAMP,\n",
    "\"year\" INTEGER,\n",
    "\"month\" INTEGER,\n",
    "\"day_of_week\" INTEGER\n",
    ")\n",
    "\"\"\")"
   ]
  },
  {
   "cell_type": "code",
   "execution_count": null,
   "id": "46a4587b-ef43-4d56-ae5a-175ae33a1a16",
   "metadata": {},
   "outputs": [],
   "source": [
    "cursor.execute(\"\"\"\n",
    "CREATE TABLE \"dimHospital\" (\n",
    "\"index\" INTEGER,\n",
    "\"fips\" REAL,\n",
    "\"state_name\" TEXT,\n",
    "\"longitutde\" REAL,\n",
    "\"latitude\" REAL,\n",
    "\"hq_address\" TEXT,\n",
    "\"hospital_name\" TEXT,\n",
    "\"hospital_type\" TEXT,\n",
    "\"hq_city\" TEXT,\n",
    "\"hq_state\" TEXT,\n",
    ")\n",
    "\"\"\")\n",
    "\n",
    "cursor.execute(\"\"\"\n",
    "CREATE TABLE \"factCovid\" (\n",
    "\"index\" INTEGER,\n",
    "\"fips\" REAL,\n",
    "\"province_state\" TEXT,\n",
    "\"country_region\" TEXT,\n",
    "\"confirmed\" REAL,\n",
    "\"deaths\" REAL,\n",
    "\"recovered\" REAL,\n",
    "\"active\" REAL,\n",
    "\"date\" INTEGER,\n",
    "\"positive\" REAL,\n",
    "\"negative\" REAL,\n",
    "\"hospitalizedcurrently\" REAL,\n",
    "\"hospitalized\" REAL,\n",
    "\"hospitalizeddischarged\" REAL\n",
    ")\n",
    "\"\"\")"
   ]
  },
  {
   "cell_type": "code",
   "execution_count": null,
   "id": "19c3578f-7c20-4f99-bd40-63976a44bc77",
   "metadata": {},
   "outputs": [],
   "source": [
    "cursor.execute(\"\"\"\n",
    "CREATE TABLE \"dimRegion\" (\n",
    "\"index\" INTEGER,\n",
    "\"fips\" REAL,\n",
    "\"province_state\" TEXT,\n",
    "\"country_region\" TEXT,\n",
    "\"latitude\" REAL,\n",
    "\"longititude\" REAL,\n",
    "\"county\" TEXT,\n",
    "\"state\" TEXT\n",
    ")\n",
    "\"\"\")"
   ]
  },
  {
   "cell_type": "code",
   "execution_count": null,
   "id": "848d8238-ce1b-4d8a-9b85-624aa756c9b8",
   "metadata": {},
   "outputs": [],
   "source": [
    "cursor.execute(\"\"\"\n",
    "copy dimDate from 's3_uri'\n",
    "credentials 'aws_iam_role=arn:aws:iam:iamrole'\n",
    "delimiter ','\n",
    "region 'ap-south-1'\n",
    "IGNOREHEADER 1\n",
    "\"\"\")"
   ]
  },
  {
   "cell_type": "code",
   "execution_count": null,
   "id": "07e355ec-be0e-4732-b0f2-819d94112b11",
   "metadata": {},
   "outputs": [],
   "source": []
  }
 ],
 "metadata": {
  "kernelspec": {
   "display_name": "Python 3 (ipykernel)",
   "language": "python",
   "name": "python3"
  },
  "language_info": {
   "codemirror_mode": {
    "name": "ipython",
    "version": 3
   },
   "file_extension": ".py",
   "mimetype": "text/x-python",
   "name": "python",
   "nbconvert_exporter": "python",
   "pygments_lexer": "ipython3",
   "version": "3.11.5"
  }
 },
 "nbformat": 4,
 "nbformat_minor": 5
}
